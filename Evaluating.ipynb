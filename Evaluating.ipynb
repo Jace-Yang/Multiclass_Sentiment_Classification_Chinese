{
  "cells": [
    {
      "cell_type": "markdown",
      "metadata": {
        "id": "view-in-github",
        "colab_type": "text"
      },
      "source": [
        "<a href=\"https://colab.research.google.com/github/Jace-Yang/Multiclass_Sentiment_Classification_Chinese/blob/main/Evaluating.ipynb\" target=\"_parent\"><img src=\"https://colab.research.google.com/assets/colab-badge.svg\" alt=\"Open In Colab\"/></a>"
      ]
    },
    {
      "cell_type": "markdown",
      "metadata": {
        "id": "525XFs9ZiaQF"
      },
      "source": [
        "## Set up"
      ]
    },
    {
      "cell_type": "markdown",
      "metadata": {
        "id": "vR77jTblj3o8"
      },
      "source": [
        "### Set up for Colab"
      ]
    },
    {
      "cell_type": "code",
      "execution_count": 1,
      "metadata": {
        "colab": {
          "base_uri": "https://localhost:8080/"
        },
        "id": "zF1fYe6WLheW",
        "outputId": "00e5009d-b3f2-43e6-f133-078f81e09e8e"
      },
      "outputs": [
        {
          "output_type": "stream",
          "name": "stdout",
          "text": [
            "Mounted at /content/drive\n"
          ]
        }
      ],
      "source": [
        "# For runing notebook in colab\n",
        "from google.colab import drive\n",
        "drive.mount('/content/drive')\n",
        "import os\n",
        "root_of_repository = '/content/drive/MyDrive/ADL/Project/'\n",
        "os.chdir(root_of_repository)"
      ]
    },
    {
      "cell_type": "code",
      "execution_count": 2,
      "metadata": {
        "colab": {
          "base_uri": "https://localhost:8080/"
        },
        "id": "X3o65vJ6ika_",
        "outputId": "53056c9d-ce97-4034-bda5-9144ca3d35a1"
      },
      "outputs": [
        {
          "output_type": "stream",
          "name": "stdout",
          "text": [
            "Looking in indexes: https://pypi.org/simple, https://us-python.pkg.dev/colab-wheels/public/simple/\n",
            "Collecting transformers\n",
            "  Downloading transformers-4.25.1-py3-none-any.whl (5.8 MB)\n",
            "\u001b[K     |████████████████████████████████| 5.8 MB 4.8 MB/s \n",
            "\u001b[?25hRequirement already satisfied: regex!=2019.12.17 in /usr/local/lib/python3.8/dist-packages (from transformers) (2022.6.2)\n",
            "Requirement already satisfied: numpy>=1.17 in /usr/local/lib/python3.8/dist-packages (from transformers) (1.21.6)\n",
            "Requirement already satisfied: packaging>=20.0 in /usr/local/lib/python3.8/dist-packages (from transformers) (21.3)\n",
            "Requirement already satisfied: pyyaml>=5.1 in /usr/local/lib/python3.8/dist-packages (from transformers) (6.0)\n",
            "Requirement already satisfied: requests in /usr/local/lib/python3.8/dist-packages (from transformers) (2.23.0)\n",
            "Requirement already satisfied: filelock in /usr/local/lib/python3.8/dist-packages (from transformers) (3.8.0)\n",
            "Collecting tokenizers!=0.11.3,<0.14,>=0.11.1\n",
            "  Downloading tokenizers-0.13.2-cp38-cp38-manylinux_2_17_x86_64.manylinux2014_x86_64.whl (7.6 MB)\n",
            "\u001b[K     |████████████████████████████████| 7.6 MB 45.3 MB/s \n",
            "\u001b[?25hRequirement already satisfied: tqdm>=4.27 in /usr/local/lib/python3.8/dist-packages (from transformers) (4.64.1)\n",
            "Collecting huggingface-hub<1.0,>=0.10.0\n",
            "  Downloading huggingface_hub-0.11.1-py3-none-any.whl (182 kB)\n",
            "\u001b[K     |████████████████████████████████| 182 kB 63.6 MB/s \n",
            "\u001b[?25hRequirement already satisfied: typing-extensions>=3.7.4.3 in /usr/local/lib/python3.8/dist-packages (from huggingface-hub<1.0,>=0.10.0->transformers) (4.4.0)\n",
            "Requirement already satisfied: pyparsing!=3.0.5,>=2.0.2 in /usr/local/lib/python3.8/dist-packages (from packaging>=20.0->transformers) (3.0.9)\n",
            "Requirement already satisfied: certifi>=2017.4.17 in /usr/local/lib/python3.8/dist-packages (from requests->transformers) (2022.9.24)\n",
            "Requirement already satisfied: idna<3,>=2.5 in /usr/local/lib/python3.8/dist-packages (from requests->transformers) (2.10)\n",
            "Requirement already satisfied: urllib3!=1.25.0,!=1.25.1,<1.26,>=1.21.1 in /usr/local/lib/python3.8/dist-packages (from requests->transformers) (1.24.3)\n",
            "Requirement already satisfied: chardet<4,>=3.0.2 in /usr/local/lib/python3.8/dist-packages (from requests->transformers) (3.0.4)\n",
            "Installing collected packages: tokenizers, huggingface-hub, transformers\n",
            "Successfully installed huggingface-hub-0.11.1 tokenizers-0.13.2 transformers-4.25.1\n"
          ]
        }
      ],
      "source": [
        "!pip install transformers"
      ]
    },
    {
      "cell_type": "markdown",
      "metadata": {
        "id": "XplycqVMkDlk"
      },
      "source": [
        "### Packages"
      ]
    },
    {
      "cell_type": "code",
      "execution_count": 3,
      "metadata": {
        "id": "TkDtjNgliaQI"
      },
      "outputs": [],
      "source": [
        "import torch\n",
        "from transformers import BertModel, BertTokenizer\n",
        "from transformers import logging\n",
        "logging.set_verbosity_error()\n",
        "import torch.nn as nn\n",
        "from tqdm.notebook import tqdm\n",
        "import torch.nn.functional as F\n",
        "from torch.utils.data import DataLoader, TensorDataset, RandomSampler\n",
        "\n",
        "import numpy as np\n",
        "import pandas as pd\n",
        "import json\n",
        "import copy\n",
        "import time\n",
        "import gc\n",
        "from sklearn.model_selection import train_test_split\n",
        "from sklearn.metrics import f1_score, accuracy_score"
      ]
    },
    {
      "cell_type": "code",
      "source": [
        "from model_utils import test"
      ],
      "metadata": {
        "id": "wGKqnwRrGQlM"
      },
      "execution_count": 17,
      "outputs": []
    },
    {
      "cell_type": "code",
      "source": [
        "# class SentimentModel(nn.Module):\n",
        "class Model(nn.Module):\n",
        "    def __init__(self, num_classes, model_name, pretrain_path, hidden_size):\n",
        "        '''\n",
        "        pretrain_path: local or hugging-face path, e.g '/roberta-wwm-ext pretrain/'\n",
        "        '''\n",
        "        super(Model, self).__init__()\n",
        "        self.bert = BertModel.from_pretrained(pretrain_path, return_dict=False)\n",
        "        for param in self.bert.parameters():\n",
        "            param.requires_grad = True  # Allow all parameters to be updated\n",
        "        self.fc = nn.Linear(hidden_size, num_classes)   # A layer to calculate logits of 6 ouput classes from 768 (hidden size of BERT)\n",
        "            # Note: We are going to use Cross-EntropyLoss with a softmax “embedded”.\n",
        "    def forward(self, x, token_type_ids, attention_mask):\n",
        "        context = x  # Input sentence\n",
        "        segments = token_type_ids\n",
        "        mask = attention_mask  # Only mask the padding part\n",
        "        _, pooled = self.bert(context, token_type_ids=segments, attention_mask=mask)\n",
        "        logits = self.fc(pooled) # probability of 6 classes\n",
        "        return logits"
      ],
      "metadata": {
        "id": "4us6vgypBaSe"
      },
      "execution_count": 13,
      "outputs": []
    },
    {
      "cell_type": "markdown",
      "metadata": {
        "id": "Ev8M5OS8iaQJ"
      },
      "source": [
        "## Data Preprocessing"
      ]
    },
    {
      "cell_type": "code",
      "execution_count": 5,
      "metadata": {
        "id": "7bRQKKZciaQJ"
      },
      "outputs": [],
      "source": [
        "SEQ_LENGTH = 128\n",
        "BATCH_SIZE = 8\n",
        "LABEL_DICT = {'fear':0, 'neutral':1, 'sad':2, 'surprise':3, 'angry':4, 'happy':5} # Mapping label code and meaning\n",
        "TOKENIZER = BertTokenizer.from_pretrained(\"chinese_wwm_ext_pytorch\") # Hugging face BertTokenizer to load pretrain model\n",
        "\n",
        "#tokenizer = BertTokenizer.from_pretrained(\"hfl/chinese-bert-wwm-ext\")\n",
        "#model = BertModel.from_pretrained(\"hfl/chinese-bert-wwm-ext\")\n",
        "\n",
        "\n",
        "DEVELOPMENT_SET_PATH = 'data/usual_train.txt'\n",
        "TEST_SET_PATH = 'data/usual_test_labeled.txt'\n",
        "\n",
        "def convert_text_to_token(tokenizer, sentence, seq_length):\n",
        "    \"\"\"Tokenize sentence\n",
        "\n",
        "    Args:\n",
        "        tokenizer (PreTrainedTokenizer): a pretrained tokenizer with special token set to \n",
        "            {'unk_token': '[UNK]', 'sep_token': '[SEP]', \n",
        "             'pad_token': '[PAD]', 'cls_token': '[CLS]', \n",
        "             'mask_token': '[MASK]'}\n",
        "        sentence (str): \n",
        "        seq_length (int): length of maximum input sentence accepted\n",
        "    \n",
        "    Returns: tuple(word_ids, segments, attention_masks)\n",
        "        word_ids (list): tokenized sentence\n",
        "        segments (list): label segmentation of original sentence and padding\n",
        "        attention_masks (list): label whether the word is masked\n",
        "    \"\"\" \n",
        "    tokens = tokenizer.tokenize(sentence) # Tokenize the sentence\n",
        "    tokens = [\"[CLS]\"] + tokens + [\"[SEP]\"] # Add [CLS] before token and [SEP] after token\n",
        "    word_ids = tokenizer.convert_tokens_to_ids(tokens) # Generate list of word id\n",
        "    segments = [0] * len(word_ids) # Label whether it is segmented\n",
        "    attention_masks = [1] * len(word_ids) # Label whether the word is masked\n",
        "    # Chop or pad the sentence into a single length - seq_length\n",
        "    if len(word_ids) < seq_length: # Padding\n",
        "        length_to_pad = seq_length - len(word_ids)\n",
        "        word_ids += [0] * length_to_pad # [0] is the index of word \"PAD\" in the vocabulary table\n",
        "        segments += [1] * length_to_pad # [1] denotes that this part of words are PAD\n",
        "        attention_masks += [0] * length_to_pad # Change attention mask of PAD part as [0]\n",
        "    else: # Chopping\n",
        "        word_ids = word_ids[:seq_length]\n",
        "        segments = segments[:seq_length]\n",
        "        attention_masks = attention_masks[:seq_length]\n",
        "    assert len(word_ids) == len(segments) == len(attention_masks)\n",
        "    return word_ids, segments, attention_masks"
      ]
    },
    {
      "cell_type": "code",
      "execution_count": 6,
      "metadata": {
        "id": "14YAnw26iaQK"
      },
      "outputs": [],
      "source": [
        "def genDataLoader(data_type):\n",
        "    '''Construct dataset loader\n",
        "\n",
        "    Args:\n",
        "        data_type (str): 'train' in training, 'val' in validating, 'test' in testing\n",
        "    '''\n",
        "    if data_type == 'test':\n",
        "        with open(TEST_SET_PATH, encoding='utf8') as file:\n",
        "            data = json.load(file)\n",
        "    else:\n",
        "        with open(DEVELOPMENT_SET_PATH, encoding='utf8') as file:\n",
        "            data = json.load(file)\n",
        "            # TESTING_STAGE\n",
        "            if TESTING:\n",
        "                dev_set, _ = train_test_split(data, train_size=160, random_state=4995)\n",
        "                train_set, val_set = train_test_split(dev_set, test_size=0.2, random_state=4995)\n",
        "            else:\n",
        "                train_set, val_set = train_test_split(data, test_size=0.2, random_state=4995)\n",
        "            data = train_set if data_type == 'train' else val_set\n",
        "    ids_pool = []\n",
        "    segments_pool = []\n",
        "    masks_pool = []\n",
        "    target_pool = []\n",
        "    count = 0\n",
        "    # Process all the sentences\n",
        "    for each in data:\n",
        "        cur_ids, cur_type, cur_mask = convert_text_to_token(TOKENIZER, each['content'], seq_length = SEQ_LENGTH)\n",
        "        ids_pool.append(cur_ids)\n",
        "        segments_pool.append(cur_type)\n",
        "        masks_pool.append(cur_mask)\n",
        "        cur_target = LABEL_DICT[each['label']]\n",
        "        target_pool.append([cur_target])\n",
        "        count += 1\n",
        "        if count % 2000 == 0:\n",
        "            print(f'Processed {count} sentences for {data_type}')\n",
        "    # Construct Data Generater\n",
        "    data_gen = TensorDataset(torch.LongTensor(np.array(ids_pool)),\n",
        "                             torch.LongTensor(np.array(segments_pool)),\n",
        "                             torch.LongTensor(np.array(masks_pool)),\n",
        "                             torch.LongTensor(np.array(target_pool)))\n",
        "    sampler = RandomSampler(data_gen)\n",
        "    loader = DataLoader(data_gen, sampler=sampler, batch_size=BATCH_SIZE)\n",
        "    return loader"
      ]
    },
    {
      "cell_type": "code",
      "execution_count": 7,
      "metadata": {
        "colab": {
          "base_uri": "https://localhost:8080/"
        },
        "id": "f5TZW1bViaQL",
        "outputId": "dca9bcb0-5c62-402f-87f1-8b5cd5a791e8"
      },
      "outputs": [
        {
          "output_type": "stream",
          "name": "stdout",
          "text": [
            "Processed 2000 sentences for test\n",
            "Processed 4000 sentences for test\n"
          ]
        }
      ],
      "source": [
        "TESTING = True\n",
        "train_datagen = genDataLoader('train')\n",
        "val_datagen = genDataLoader('val')\n",
        "test_datagen = genDataLoader('test')"
      ]
    },
    {
      "cell_type": "code",
      "source": [
        "BEST_MODEL_FOLDER = 'result/model/'  # Path to save best model\n",
        "TRAINING_LOGS_FOLDER = 'result/training/'  # Path to save training logs\n",
        "TESTING_LOGS_FOLDER = 'result/testing/'  # Path to save testing logs"
      ],
      "metadata": {
        "id": "BydWSzK17GBl"
      },
      "execution_count": 8,
      "outputs": []
    },
    {
      "cell_type": "markdown",
      "metadata": {
        "id": "6W4m86UdiaQM"
      },
      "source": [
        "## Evaluating"
      ]
    },
    {
      "cell_type": "code",
      "execution_count": 9,
      "metadata": {
        "id": "Jg3IwJdt3U40"
      },
      "outputs": [],
      "source": [
        "# All pretrain models in chinese\n",
        "MODELS_PATHS_UNITS = {\n",
        "    'BERT': ('bert-base-chinese', 768),\n",
        "    'BERT-wwm': ('hfl/chinese-bert-wwm-ext', 768),\n",
        "    'RoBERTa': ('uer/chinese_roberta_L-12_H-768', 768),\n",
        "    'RoBERTa-wwm': ('hfl/chinese-roberta-wwm-ext', 768),\n",
        "    'RoBERTa-wwm-large': ('hfl/chinese-roberta-wwm-ext-large', 1024),\n",
        "    'Re-trained RoBERTa-wwm': ('hfl/rbt3', 768),\n",
        "    'Re-trained RoBERTa-wwm-large': ('hfl/rbtl3', 1024),\n",
        "}"
      ]
    },
    {
      "cell_type": "markdown",
      "source": [
        "### Training Performance"
      ],
      "metadata": {
        "id": "9jX43WN55vD_"
      }
    },
    {
      "cell_type": "code",
      "execution_count": 10,
      "metadata": {
        "colab": {
          "base_uri": "https://localhost:8080/"
        },
        "id": "Taw74GGyiaQM",
        "outputId": "7e6b4356-1fe6-4f07-de74-9f6d756a0b87"
      },
      "outputs": [
        {
          "output_type": "execute_result",
          "data": {
            "text/plain": [
              "device(type='cpu')"
            ]
          },
          "metadata": {},
          "execution_count": 10
        }
      ],
      "source": [
        "DEVICE = torch.device(\"cuda\" if torch.cuda.is_available() else \"cpu\")\n",
        "DEVICE"
      ]
    },
    {
      "cell_type": "code",
      "source": [
        "training_results = []\n",
        "for model_name in tqdm(MODELS_PATHS_UNITS.keys()):\n",
        "    log_path = f'{TRAINING_LOGS_FOLDER}{model_name}.pickle'\n",
        "    if os.path.exists(log_path):\n",
        "        training_log = pd.read_pickle(log_path)\n",
        "        training_results.append(training_log)\n",
        "training_result = pd.concat(training_results, axis=0)\n",
        "training_result.to_excel('output/training_result.xlsx', index=False)"
      ],
      "metadata": {
        "colab": {
          "base_uri": "https://localhost:8080/",
          "height": 49,
          "referenced_widgets": [
            "f37015e648c641b7acf23b895e637ee7",
            "0ffefd82b33c4d6887b231bcd8669ae3",
            "11081ad347184637bc8045f78fa8b25d",
            "99edad81cbb64135bef4c317cbcd5aba",
            "e760bf3a5a114be6a48bc2d8d2a36e60",
            "f5c7a1bc62d4434fbbe4161764ee7846",
            "75e2ad43a9974974aab7f57d4d7bf221",
            "ceab060b3cf546849aa067f5fc01a8c7",
            "44557ae7f8e34616ad3cf6b357743770",
            "9626c44b99e348949f5be60c307d4da6",
            "dbef547fce5e462088390737f88bdddc"
          ]
        },
        "id": "m2SQEeTF5r55",
        "outputId": "3a42b5eb-d2a1-4593-b544-e8c0a95857d8"
      },
      "execution_count": 14,
      "outputs": [
        {
          "output_type": "display_data",
          "data": {
            "text/plain": [
              "  0%|          | 0/7 [00:00<?, ?it/s]"
            ],
            "application/vnd.jupyter.widget-view+json": {
              "version_major": 2,
              "version_minor": 0,
              "model_id": "f37015e648c641b7acf23b895e637ee7"
            }
          },
          "metadata": {}
        }
      ]
    },
    {
      "cell_type": "markdown",
      "metadata": {
        "id": "YWaKXDrViaQM"
      },
      "source": [
        "### Testing Performance"
      ]
    },
    {
      "cell_type": "code",
      "execution_count": null,
      "metadata": {
        "id": "ormvESttiaQM",
        "colab": {
          "base_uri": "https://localhost:8080/",
          "height": 66,
          "referenced_widgets": [
            "3b64c95211354337a913ae0cb913298e",
            "d64b57491d4344028eaabf4b28647588",
            "50f15e3a081b445e9e15d88922bd4ead",
            "28e9f3a781de4b6bb709cb29a771a1c6",
            "2dc4199402384f50b740eb5d925f7302",
            "20f6e7bfcac54852bad5f4c8c90527e4",
            "3e3dcba8f81947519b6ae3725137112f",
            "faf6729dd8034a3fbef7f7834e48ec62",
            "aaaf9a7f9839428e831aa821e3fc8ad8",
            "310d0f90c44f4f8fabdca2acb1c793ae",
            "fbbe696f9a9f4087a13c8f6f3ebcab0e"
          ]
        },
        "outputId": "8b752e12-b13e-4925-901e-61b9bd79f856"
      },
      "outputs": [
        {
          "output_type": "display_data",
          "data": {
            "text/plain": [
              "  0%|          | 0/7 [00:00<?, ?it/s]"
            ],
            "application/vnd.jupyter.widget-view+json": {
              "version_major": 2,
              "version_minor": 0,
              "model_id": "3b64c95211354337a913ae0cb913298e"
            }
          },
          "metadata": {}
        },
        {
          "output_type": "stream",
          "name": "stdout",
          "text": [
            "---------- BERT ----------\n"
          ]
        }
      ],
      "source": [
        "REPLACE_EXIST = True\n",
        "\n",
        "# Evaluate each pretrain model\n",
        "for model_name in tqdm(MODELS_PATHS_UNITS.keys()):\n",
        "    print('-'*10, model_name, '-'*10)\n",
        "    result_log_path = f'{TESTING_LOGS_FOLDER}{model_name}.pickle'\n",
        "\n",
        "    if not os.path.exists(result_log_path) or REPLACE_EXIST:\n",
        "        model_path = f'{BEST_MODEL_FOLDER}best_{model_name}.pth' if not TESTING else f'{BEST_MODEL_FOLDER}best_testing_{model_name}.pth'\n",
        "        # Initialize a model\n",
        "        sentiment_classifier = Model(num_classes=6,\n",
        "                                     model_name=model_name, \n",
        "                                     pretrain_path=MODELS_PATHS_UNITS[model_name][0],\n",
        "                                     hidden_size=MODELS_PATHS_UNITS[model_name][1]).to(DEVICE)\n",
        "\n",
        "        # Load model parameters\n",
        "        sentiment_classifier.load_state_dict(torch.load(model_path, map_location=DEVICE))\n",
        "\n",
        "        # Evaluate on testset\n",
        "        loss, accuracy, f1, inference_time = test(sentiment_classifier, test_datagen, device=DEVICE)\n",
        "\n",
        "        # Logging\n",
        "        result = pd.DataFrame([[model_name, loss, accuracy, inference_time]], columns=['model_name', 'loss', 'accuracy', 'inference_time'])\n",
        "        result.to_pickle(result_log_path)"
      ]
    },
    {
      "cell_type": "code",
      "source": [
        "testing_results = []\n",
        "for model_name in tqdm(MODELS_PATHS_UNITS.keys()):\n",
        "    log_path = f'{TESTING_LOGS_FOLDER}{model_name}.pickle'\n",
        "    if os.path.exists(log_path):\n",
        "        testing_log = pd.read_pickle(log_path)\n",
        "        testing_results.append(testing_log)\n",
        "testing_result = pd.concat(testing_results, axis=0)\n",
        "testing_result.to_excel('output/testing_result.xlsx', index=False)\n",
        "testing_result"
      ],
      "metadata": {
        "colab": {
          "base_uri": "https://localhost:8080/",
          "height": 301,
          "referenced_widgets": [
            "33bffc489482481c958af55ed0984499",
            "5ff65fe224c64fb8afdbb1937585e9ab",
            "e83d047e0c35420c8c21cf0d10bba3c2",
            "80ebb5a4f5774137a17eaa1eaf6eccff",
            "b4bf9c44b8ca476da7392a632d7a6949",
            "fa1a00ea9ff341a9b4a2aa538c4e9631",
            "dad87469d2ea4dc1bcedee5834733b54",
            "51fece3508e54217a654adbb30703fc7",
            "a47a6e4c08454fc4b2e54a76da54c13f",
            "7e33304e2a894f379e6705b4bfb1047f",
            "a470ad734ec640439f6b725f927dea4d"
          ]
        },
        "id": "klW_TiQn8LJv",
        "outputId": "51595a6d-7de0-45b2-9679-3d523b262db3"
      },
      "execution_count": null,
      "outputs": [
        {
          "output_type": "display_data",
          "data": {
            "text/plain": [
              "  0%|          | 0/7 [00:00<?, ?it/s]"
            ],
            "application/vnd.jupyter.widget-view+json": {
              "version_major": 2,
              "version_minor": 0,
              "model_id": "33bffc489482481c958af55ed0984499"
            }
          },
          "metadata": {}
        },
        {
          "output_type": "execute_result",
          "data": {
            "text/plain": [
              "                     model_name    loss  accuracy  inference_time\n",
              "0                          BERT  0.6476  0.510827       35.820117\n",
              "0                      BERT-wwm  0.6998  0.633030       34.321145\n",
              "0                       RoBERTa  0.7070  0.635746       36.553144\n",
              "0                   RoBERTa-wwm  0.6844  0.591163       37.308538\n",
              "0             RoBERTa-wwm-large  0.6802  0.577993      129.985601\n",
              "0        Re-trained RoBERTa-wwm  0.6030  0.475079        9.177177\n",
              "0  Re-trained RoBERTa-wwm-large  0.6298  0.531702       16.389246"
            ],
            "text/html": [
              "\n",
              "  <div id=\"df-d6fb49fd-88d7-47bc-9c4b-a3d2a2100368\">\n",
              "    <div class=\"colab-df-container\">\n",
              "      <div>\n",
              "<style scoped>\n",
              "    .dataframe tbody tr th:only-of-type {\n",
              "        vertical-align: middle;\n",
              "    }\n",
              "\n",
              "    .dataframe tbody tr th {\n",
              "        vertical-align: top;\n",
              "    }\n",
              "\n",
              "    .dataframe thead th {\n",
              "        text-align: right;\n",
              "    }\n",
              "</style>\n",
              "<table border=\"1\" class=\"dataframe\">\n",
              "  <thead>\n",
              "    <tr style=\"text-align: right;\">\n",
              "      <th></th>\n",
              "      <th>model_name</th>\n",
              "      <th>loss</th>\n",
              "      <th>accuracy</th>\n",
              "      <th>inference_time</th>\n",
              "    </tr>\n",
              "  </thead>\n",
              "  <tbody>\n",
              "    <tr>\n",
              "      <th>0</th>\n",
              "      <td>BERT</td>\n",
              "      <td>0.6476</td>\n",
              "      <td>0.510827</td>\n",
              "      <td>35.820117</td>\n",
              "    </tr>\n",
              "    <tr>\n",
              "      <th>0</th>\n",
              "      <td>BERT-wwm</td>\n",
              "      <td>0.6998</td>\n",
              "      <td>0.633030</td>\n",
              "      <td>34.321145</td>\n",
              "    </tr>\n",
              "    <tr>\n",
              "      <th>0</th>\n",
              "      <td>RoBERTa</td>\n",
              "      <td>0.7070</td>\n",
              "      <td>0.635746</td>\n",
              "      <td>36.553144</td>\n",
              "    </tr>\n",
              "    <tr>\n",
              "      <th>0</th>\n",
              "      <td>RoBERTa-wwm</td>\n",
              "      <td>0.6844</td>\n",
              "      <td>0.591163</td>\n",
              "      <td>37.308538</td>\n",
              "    </tr>\n",
              "    <tr>\n",
              "      <th>0</th>\n",
              "      <td>RoBERTa-wwm-large</td>\n",
              "      <td>0.6802</td>\n",
              "      <td>0.577993</td>\n",
              "      <td>129.985601</td>\n",
              "    </tr>\n",
              "    <tr>\n",
              "      <th>0</th>\n",
              "      <td>Re-trained RoBERTa-wwm</td>\n",
              "      <td>0.6030</td>\n",
              "      <td>0.475079</td>\n",
              "      <td>9.177177</td>\n",
              "    </tr>\n",
              "    <tr>\n",
              "      <th>0</th>\n",
              "      <td>Re-trained RoBERTa-wwm-large</td>\n",
              "      <td>0.6298</td>\n",
              "      <td>0.531702</td>\n",
              "      <td>16.389246</td>\n",
              "    </tr>\n",
              "  </tbody>\n",
              "</table>\n",
              "</div>\n",
              "      <button class=\"colab-df-convert\" onclick=\"convertToInteractive('df-d6fb49fd-88d7-47bc-9c4b-a3d2a2100368')\"\n",
              "              title=\"Convert this dataframe to an interactive table.\"\n",
              "              style=\"display:none;\">\n",
              "        \n",
              "  <svg xmlns=\"http://www.w3.org/2000/svg\" height=\"24px\"viewBox=\"0 0 24 24\"\n",
              "       width=\"24px\">\n",
              "    <path d=\"M0 0h24v24H0V0z\" fill=\"none\"/>\n",
              "    <path d=\"M18.56 5.44l.94 2.06.94-2.06 2.06-.94-2.06-.94-.94-2.06-.94 2.06-2.06.94zm-11 1L8.5 8.5l.94-2.06 2.06-.94-2.06-.94L8.5 2.5l-.94 2.06-2.06.94zm10 10l.94 2.06.94-2.06 2.06-.94-2.06-.94-.94-2.06-.94 2.06-2.06.94z\"/><path d=\"M17.41 7.96l-1.37-1.37c-.4-.4-.92-.59-1.43-.59-.52 0-1.04.2-1.43.59L10.3 9.45l-7.72 7.72c-.78.78-.78 2.05 0 2.83L4 21.41c.39.39.9.59 1.41.59.51 0 1.02-.2 1.41-.59l7.78-7.78 2.81-2.81c.8-.78.8-2.07 0-2.86zM5.41 20L4 18.59l7.72-7.72 1.47 1.35L5.41 20z\"/>\n",
              "  </svg>\n",
              "      </button>\n",
              "      \n",
              "  <style>\n",
              "    .colab-df-container {\n",
              "      display:flex;\n",
              "      flex-wrap:wrap;\n",
              "      gap: 12px;\n",
              "    }\n",
              "\n",
              "    .colab-df-convert {\n",
              "      background-color: #E8F0FE;\n",
              "      border: none;\n",
              "      border-radius: 50%;\n",
              "      cursor: pointer;\n",
              "      display: none;\n",
              "      fill: #1967D2;\n",
              "      height: 32px;\n",
              "      padding: 0 0 0 0;\n",
              "      width: 32px;\n",
              "    }\n",
              "\n",
              "    .colab-df-convert:hover {\n",
              "      background-color: #E2EBFA;\n",
              "      box-shadow: 0px 1px 2px rgba(60, 64, 67, 0.3), 0px 1px 3px 1px rgba(60, 64, 67, 0.15);\n",
              "      fill: #174EA6;\n",
              "    }\n",
              "\n",
              "    [theme=dark] .colab-df-convert {\n",
              "      background-color: #3B4455;\n",
              "      fill: #D2E3FC;\n",
              "    }\n",
              "\n",
              "    [theme=dark] .colab-df-convert:hover {\n",
              "      background-color: #434B5C;\n",
              "      box-shadow: 0px 1px 3px 1px rgba(0, 0, 0, 0.15);\n",
              "      filter: drop-shadow(0px 1px 2px rgba(0, 0, 0, 0.3));\n",
              "      fill: #FFFFFF;\n",
              "    }\n",
              "  </style>\n",
              "\n",
              "      <script>\n",
              "        const buttonEl =\n",
              "          document.querySelector('#df-d6fb49fd-88d7-47bc-9c4b-a3d2a2100368 button.colab-df-convert');\n",
              "        buttonEl.style.display =\n",
              "          google.colab.kernel.accessAllowed ? 'block' : 'none';\n",
              "\n",
              "        async function convertToInteractive(key) {\n",
              "          const element = document.querySelector('#df-d6fb49fd-88d7-47bc-9c4b-a3d2a2100368');\n",
              "          const dataTable =\n",
              "            await google.colab.kernel.invokeFunction('convertToInteractive',\n",
              "                                                     [key], {});\n",
              "          if (!dataTable) return;\n",
              "\n",
              "          const docLinkHtml = 'Like what you see? Visit the ' +\n",
              "            '<a target=\"_blank\" href=https://colab.research.google.com/notebooks/data_table.ipynb>data table notebook</a>'\n",
              "            + ' to learn more about interactive tables.';\n",
              "          element.innerHTML = '';\n",
              "          dataTable['output_type'] = 'display_data';\n",
              "          await google.colab.output.renderOutput(dataTable, element);\n",
              "          const docLink = document.createElement('div');\n",
              "          docLink.innerHTML = docLinkHtml;\n",
              "          element.appendChild(docLink);\n",
              "        }\n",
              "      </script>\n",
              "    </div>\n",
              "  </div>\n",
              "  "
            ]
          },
          "metadata": {},
          "execution_count": 45
        }
      ]
    },
    {
      "cell_type": "code",
      "execution_count": null,
      "metadata": {
        "id": "BVWX4qf0Z1E8",
        "colab": {
          "base_uri": "https://localhost:8080/",
          "height": 239
        },
        "outputId": "eae26b36-99e0-459e-f12d-2ad042cc2f41"
      },
      "outputs": [
        {
          "output_type": "error",
          "ename": "NameError",
          "evalue": "ignored",
          "traceback": [
            "\u001b[0;31m---------------------------------------------------------------------------\u001b[0m",
            "\u001b[0;31mNameError\u001b[0m                                 Traceback (most recent call last)",
            "\u001b[0;32m<ipython-input-42-0f70c6fe12fd>\u001b[0m in \u001b[0;36m<module>\u001b[0;34m\u001b[0m\n\u001b[0;32m----> 1\u001b[0;31m \u001b[0msentiment_classifier\u001b[0m \u001b[0;34m=\u001b[0m \u001b[0mcopy\u001b[0m\u001b[0;34m.\u001b[0m\u001b[0mdeepcopy\u001b[0m\u001b[0;34m(\u001b[0m\u001b[0mpretrained_model\u001b[0m\u001b[0;34m)\u001b[0m\u001b[0;34m\u001b[0m\u001b[0;34m\u001b[0m\u001b[0m\n\u001b[0m\u001b[1;32m      2\u001b[0m \u001b[0msentiment_classifier\u001b[0m\u001b[0;34m.\u001b[0m\u001b[0mload_state_dict\u001b[0m\u001b[0;34m(\u001b[0m\u001b[0mtorch\u001b[0m\u001b[0;34m.\u001b[0m\u001b[0mload\u001b[0m\u001b[0;34m(\u001b[0m\u001b[0mBEST_MODEL_PATH\u001b[0m\u001b[0;34m)\u001b[0m\u001b[0;34m)\u001b[0m\u001b[0;34m\u001b[0m\u001b[0;34m\u001b[0m\u001b[0m\n\u001b[1;32m      3\u001b[0m \u001b[0mprint\u001b[0m\u001b[0;34m(\u001b[0m\u001b[0;34m'模型加载完毕'\u001b[0m\u001b[0;34m)\u001b[0m\u001b[0;34m\u001b[0m\u001b[0;34m\u001b[0m\u001b[0m\n\u001b[1;32m      4\u001b[0m \u001b[0;34m\u001b[0m\u001b[0m\n\u001b[1;32m      5\u001b[0m \u001b[0;32mdef\u001b[0m \u001b[0mpred\u001b[0m\u001b[0;34m(\u001b[0m\u001b[0mword\u001b[0m\u001b[0;34m,\u001b[0m \u001b[0mmodel\u001b[0m\u001b[0;34m)\u001b[0m\u001b[0;34m:\u001b[0m\u001b[0;34m\u001b[0m\u001b[0;34m\u001b[0m\u001b[0m\n",
            "\u001b[0;31mNameError\u001b[0m: name 'pretrained_model' is not defined"
          ]
        }
      ],
      "source": [
        "sentiment_classifier = copy.deepcopy(pretrained_model)\n",
        "sentiment_classifier.load_state_dict(torch.load(BEST_MODEL_PATH))\n",
        "print('模型加载完毕')\n",
        "\n",
        "def pred(word, model):\n",
        "    cur_ids, cur_type, cur_mask = convert_text_to_token(TOKENIZER, word, seq_length=SEQ_LENGTH)\n",
        "    cur_ids, cur_type, cur_mask = torch.LongTensor(np.array([cur_ids])).to(DEVICE), torch.LongTensor(np.array([cur_type])).to(DEVICE), torch.LongTensor(np.array([cur_mask])).to(DEVICE) # 数据构造成tensor形式\n",
        "    with torch.no_grad():\n",
        "        y_ = model(cur_ids, token_type_ids=cur_type, attention_mask=cur_mask)\n",
        "        pred = y_.max(-1, keepdim=True)[1]  # 取最大值\n",
        "        # cur_pre = LABEL_DICT[int(pred[0][0].cuda().data.cpu().numpy())] # 预测的情绪\n",
        "        cur_pre = LABEL_DICT[int(pred[0][0].data.cpu().numpy())] # 预测的情绪\n",
        "        print(cur_pre)\n"
      ]
    },
    {
      "cell_type": "code",
      "execution_count": null,
      "metadata": {
        "id": "HGiwY-PmiaQP",
        "outputId": "2a56151d-c80c-48c0-c3c0-a09caa67e449"
      },
      "outputs": [
        {
          "name": "stdout",
          "output_type": "stream",
          "text": [
            "angry\n"
          ]
        }
      ],
      "source": [
        "pred('草泥马好可爱', MODEL)"
      ]
    },
    {
      "cell_type": "code",
      "execution_count": null,
      "metadata": {
        "id": "lb6gtGPViaQP",
        "outputId": "460737a0-7614-49d2-b393-21a91584272f"
      },
      "outputs": [
        {
          "name": "stdout",
          "output_type": "stream",
          "text": [
            "angry\n"
          ]
        }
      ],
      "source": [
        "pred('草泥马是什么神仙物种', MODEL)"
      ]
    },
    {
      "cell_type": "code",
      "execution_count": null,
      "metadata": {
        "id": "71e6HSQiiaQP",
        "outputId": "9683509e-a07d-4376-c44d-04a439ec572e"
      },
      "outputs": [
        {
          "name": "stdout",
          "output_type": "stream",
          "text": [
            "angry\n"
          ]
        }
      ],
      "source": [
        "pred('草！我爱死你了！！！！！！！！！！！', MODEL)"
      ]
    },
    {
      "cell_type": "code",
      "execution_count": null,
      "metadata": {
        "id": "uTHhUGcmiaQP",
        "outputId": "00d299c7-a83b-48cc-a940-1d809f3412c2"
      },
      "outputs": [
        {
          "name": "stdout",
          "output_type": "stream",
          "text": [
            "happy\n"
          ]
        }
      ],
      "source": [
        "pred('世界上五大最可爱动物:草泥马第二', MODEL)"
      ]
    }
  ],
  "metadata": {
    "colab": {
      "provenance": [],
      "include_colab_link": true
    },
    "gpuClass": "standard",
    "kernelspec": {
      "display_name": "Python 3.9.15 ('ml')",
      "language": "python",
      "name": "python3"
    },
    "language_info": {
      "codemirror_mode": {
        "name": "ipython",
        "version": 3
      },
      "file_extension": ".py",
      "mimetype": "text/x-python",
      "name": "python",
      "nbconvert_exporter": "python",
      "pygments_lexer": "ipython3",
      "version": "3.9.15"
    },
    "vscode": {
      "interpreter": {
        "hash": "b006d4e027c423e1c5ba60767ca029aac904db329267b6e9db0756472a8771f5"
      }
    },
    "widgets": {
      "application/vnd.jupyter.widget-state+json": {
        "33bffc489482481c958af55ed0984499": {
          "model_module": "@jupyter-widgets/controls",
          "model_name": "HBoxModel",
          "model_module_version": "1.5.0",
          "state": {
            "_dom_classes": [],
            "_model_module": "@jupyter-widgets/controls",
            "_model_module_version": "1.5.0",
            "_model_name": "HBoxModel",
            "_view_count": null,
            "_view_module": "@jupyter-widgets/controls",
            "_view_module_version": "1.5.0",
            "_view_name": "HBoxView",
            "box_style": "",
            "children": [
              "IPY_MODEL_5ff65fe224c64fb8afdbb1937585e9ab",
              "IPY_MODEL_e83d047e0c35420c8c21cf0d10bba3c2",
              "IPY_MODEL_80ebb5a4f5774137a17eaa1eaf6eccff"
            ],
            "layout": "IPY_MODEL_b4bf9c44b8ca476da7392a632d7a6949"
          }
        },
        "5ff65fe224c64fb8afdbb1937585e9ab": {
          "model_module": "@jupyter-widgets/controls",
          "model_name": "HTMLModel",
          "model_module_version": "1.5.0",
          "state": {
            "_dom_classes": [],
            "_model_module": "@jupyter-widgets/controls",
            "_model_module_version": "1.5.0",
            "_model_name": "HTMLModel",
            "_view_count": null,
            "_view_module": "@jupyter-widgets/controls",
            "_view_module_version": "1.5.0",
            "_view_name": "HTMLView",
            "description": "",
            "description_tooltip": null,
            "layout": "IPY_MODEL_fa1a00ea9ff341a9b4a2aa538c4e9631",
            "placeholder": "​",
            "style": "IPY_MODEL_dad87469d2ea4dc1bcedee5834733b54",
            "value": "100%"
          }
        },
        "e83d047e0c35420c8c21cf0d10bba3c2": {
          "model_module": "@jupyter-widgets/controls",
          "model_name": "FloatProgressModel",
          "model_module_version": "1.5.0",
          "state": {
            "_dom_classes": [],
            "_model_module": "@jupyter-widgets/controls",
            "_model_module_version": "1.5.0",
            "_model_name": "FloatProgressModel",
            "_view_count": null,
            "_view_module": "@jupyter-widgets/controls",
            "_view_module_version": "1.5.0",
            "_view_name": "ProgressView",
            "bar_style": "success",
            "description": "",
            "description_tooltip": null,
            "layout": "IPY_MODEL_51fece3508e54217a654adbb30703fc7",
            "max": 7,
            "min": 0,
            "orientation": "horizontal",
            "style": "IPY_MODEL_a47a6e4c08454fc4b2e54a76da54c13f",
            "value": 7
          }
        },
        "80ebb5a4f5774137a17eaa1eaf6eccff": {
          "model_module": "@jupyter-widgets/controls",
          "model_name": "HTMLModel",
          "model_module_version": "1.5.0",
          "state": {
            "_dom_classes": [],
            "_model_module": "@jupyter-widgets/controls",
            "_model_module_version": "1.5.0",
            "_model_name": "HTMLModel",
            "_view_count": null,
            "_view_module": "@jupyter-widgets/controls",
            "_view_module_version": "1.5.0",
            "_view_name": "HTMLView",
            "description": "",
            "description_tooltip": null,
            "layout": "IPY_MODEL_7e33304e2a894f379e6705b4bfb1047f",
            "placeholder": "​",
            "style": "IPY_MODEL_a470ad734ec640439f6b725f927dea4d",
            "value": " 7/7 [00:00&lt;00:00, 152.99it/s]"
          }
        },
        "b4bf9c44b8ca476da7392a632d7a6949": {
          "model_module": "@jupyter-widgets/base",
          "model_name": "LayoutModel",
          "model_module_version": "1.2.0",
          "state": {
            "_model_module": "@jupyter-widgets/base",
            "_model_module_version": "1.2.0",
            "_model_name": "LayoutModel",
            "_view_count": null,
            "_view_module": "@jupyter-widgets/base",
            "_view_module_version": "1.2.0",
            "_view_name": "LayoutView",
            "align_content": null,
            "align_items": null,
            "align_self": null,
            "border": null,
            "bottom": null,
            "display": null,
            "flex": null,
            "flex_flow": null,
            "grid_area": null,
            "grid_auto_columns": null,
            "grid_auto_flow": null,
            "grid_auto_rows": null,
            "grid_column": null,
            "grid_gap": null,
            "grid_row": null,
            "grid_template_areas": null,
            "grid_template_columns": null,
            "grid_template_rows": null,
            "height": null,
            "justify_content": null,
            "justify_items": null,
            "left": null,
            "margin": null,
            "max_height": null,
            "max_width": null,
            "min_height": null,
            "min_width": null,
            "object_fit": null,
            "object_position": null,
            "order": null,
            "overflow": null,
            "overflow_x": null,
            "overflow_y": null,
            "padding": null,
            "right": null,
            "top": null,
            "visibility": null,
            "width": null
          }
        },
        "fa1a00ea9ff341a9b4a2aa538c4e9631": {
          "model_module": "@jupyter-widgets/base",
          "model_name": "LayoutModel",
          "model_module_version": "1.2.0",
          "state": {
            "_model_module": "@jupyter-widgets/base",
            "_model_module_version": "1.2.0",
            "_model_name": "LayoutModel",
            "_view_count": null,
            "_view_module": "@jupyter-widgets/base",
            "_view_module_version": "1.2.0",
            "_view_name": "LayoutView",
            "align_content": null,
            "align_items": null,
            "align_self": null,
            "border": null,
            "bottom": null,
            "display": null,
            "flex": null,
            "flex_flow": null,
            "grid_area": null,
            "grid_auto_columns": null,
            "grid_auto_flow": null,
            "grid_auto_rows": null,
            "grid_column": null,
            "grid_gap": null,
            "grid_row": null,
            "grid_template_areas": null,
            "grid_template_columns": null,
            "grid_template_rows": null,
            "height": null,
            "justify_content": null,
            "justify_items": null,
            "left": null,
            "margin": null,
            "max_height": null,
            "max_width": null,
            "min_height": null,
            "min_width": null,
            "object_fit": null,
            "object_position": null,
            "order": null,
            "overflow": null,
            "overflow_x": null,
            "overflow_y": null,
            "padding": null,
            "right": null,
            "top": null,
            "visibility": null,
            "width": null
          }
        },
        "dad87469d2ea4dc1bcedee5834733b54": {
          "model_module": "@jupyter-widgets/controls",
          "model_name": "DescriptionStyleModel",
          "model_module_version": "1.5.0",
          "state": {
            "_model_module": "@jupyter-widgets/controls",
            "_model_module_version": "1.5.0",
            "_model_name": "DescriptionStyleModel",
            "_view_count": null,
            "_view_module": "@jupyter-widgets/base",
            "_view_module_version": "1.2.0",
            "_view_name": "StyleView",
            "description_width": ""
          }
        },
        "51fece3508e54217a654adbb30703fc7": {
          "model_module": "@jupyter-widgets/base",
          "model_name": "LayoutModel",
          "model_module_version": "1.2.0",
          "state": {
            "_model_module": "@jupyter-widgets/base",
            "_model_module_version": "1.2.0",
            "_model_name": "LayoutModel",
            "_view_count": null,
            "_view_module": "@jupyter-widgets/base",
            "_view_module_version": "1.2.0",
            "_view_name": "LayoutView",
            "align_content": null,
            "align_items": null,
            "align_self": null,
            "border": null,
            "bottom": null,
            "display": null,
            "flex": null,
            "flex_flow": null,
            "grid_area": null,
            "grid_auto_columns": null,
            "grid_auto_flow": null,
            "grid_auto_rows": null,
            "grid_column": null,
            "grid_gap": null,
            "grid_row": null,
            "grid_template_areas": null,
            "grid_template_columns": null,
            "grid_template_rows": null,
            "height": null,
            "justify_content": null,
            "justify_items": null,
            "left": null,
            "margin": null,
            "max_height": null,
            "max_width": null,
            "min_height": null,
            "min_width": null,
            "object_fit": null,
            "object_position": null,
            "order": null,
            "overflow": null,
            "overflow_x": null,
            "overflow_y": null,
            "padding": null,
            "right": null,
            "top": null,
            "visibility": null,
            "width": null
          }
        },
        "a47a6e4c08454fc4b2e54a76da54c13f": {
          "model_module": "@jupyter-widgets/controls",
          "model_name": "ProgressStyleModel",
          "model_module_version": "1.5.0",
          "state": {
            "_model_module": "@jupyter-widgets/controls",
            "_model_module_version": "1.5.0",
            "_model_name": "ProgressStyleModel",
            "_view_count": null,
            "_view_module": "@jupyter-widgets/base",
            "_view_module_version": "1.2.0",
            "_view_name": "StyleView",
            "bar_color": null,
            "description_width": ""
          }
        },
        "7e33304e2a894f379e6705b4bfb1047f": {
          "model_module": "@jupyter-widgets/base",
          "model_name": "LayoutModel",
          "model_module_version": "1.2.0",
          "state": {
            "_model_module": "@jupyter-widgets/base",
            "_model_module_version": "1.2.0",
            "_model_name": "LayoutModel",
            "_view_count": null,
            "_view_module": "@jupyter-widgets/base",
            "_view_module_version": "1.2.0",
            "_view_name": "LayoutView",
            "align_content": null,
            "align_items": null,
            "align_self": null,
            "border": null,
            "bottom": null,
            "display": null,
            "flex": null,
            "flex_flow": null,
            "grid_area": null,
            "grid_auto_columns": null,
            "grid_auto_flow": null,
            "grid_auto_rows": null,
            "grid_column": null,
            "grid_gap": null,
            "grid_row": null,
            "grid_template_areas": null,
            "grid_template_columns": null,
            "grid_template_rows": null,
            "height": null,
            "justify_content": null,
            "justify_items": null,
            "left": null,
            "margin": null,
            "max_height": null,
            "max_width": null,
            "min_height": null,
            "min_width": null,
            "object_fit": null,
            "object_position": null,
            "order": null,
            "overflow": null,
            "overflow_x": null,
            "overflow_y": null,
            "padding": null,
            "right": null,
            "top": null,
            "visibility": null,
            "width": null
          }
        },
        "a470ad734ec640439f6b725f927dea4d": {
          "model_module": "@jupyter-widgets/controls",
          "model_name": "DescriptionStyleModel",
          "model_module_version": "1.5.0",
          "state": {
            "_model_module": "@jupyter-widgets/controls",
            "_model_module_version": "1.5.0",
            "_model_name": "DescriptionStyleModel",
            "_view_count": null,
            "_view_module": "@jupyter-widgets/base",
            "_view_module_version": "1.2.0",
            "_view_name": "StyleView",
            "description_width": ""
          }
        },
        "f37015e648c641b7acf23b895e637ee7": {
          "model_module": "@jupyter-widgets/controls",
          "model_name": "HBoxModel",
          "model_module_version": "1.5.0",
          "state": {
            "_dom_classes": [],
            "_model_module": "@jupyter-widgets/controls",
            "_model_module_version": "1.5.0",
            "_model_name": "HBoxModel",
            "_view_count": null,
            "_view_module": "@jupyter-widgets/controls",
            "_view_module_version": "1.5.0",
            "_view_name": "HBoxView",
            "box_style": "",
            "children": [
              "IPY_MODEL_0ffefd82b33c4d6887b231bcd8669ae3",
              "IPY_MODEL_11081ad347184637bc8045f78fa8b25d",
              "IPY_MODEL_99edad81cbb64135bef4c317cbcd5aba"
            ],
            "layout": "IPY_MODEL_e760bf3a5a114be6a48bc2d8d2a36e60"
          }
        },
        "0ffefd82b33c4d6887b231bcd8669ae3": {
          "model_module": "@jupyter-widgets/controls",
          "model_name": "HTMLModel",
          "model_module_version": "1.5.0",
          "state": {
            "_dom_classes": [],
            "_model_module": "@jupyter-widgets/controls",
            "_model_module_version": "1.5.0",
            "_model_name": "HTMLModel",
            "_view_count": null,
            "_view_module": "@jupyter-widgets/controls",
            "_view_module_version": "1.5.0",
            "_view_name": "HTMLView",
            "description": "",
            "description_tooltip": null,
            "layout": "IPY_MODEL_f5c7a1bc62d4434fbbe4161764ee7846",
            "placeholder": "​",
            "style": "IPY_MODEL_75e2ad43a9974974aab7f57d4d7bf221",
            "value": "100%"
          }
        },
        "11081ad347184637bc8045f78fa8b25d": {
          "model_module": "@jupyter-widgets/controls",
          "model_name": "FloatProgressModel",
          "model_module_version": "1.5.0",
          "state": {
            "_dom_classes": [],
            "_model_module": "@jupyter-widgets/controls",
            "_model_module_version": "1.5.0",
            "_model_name": "FloatProgressModel",
            "_view_count": null,
            "_view_module": "@jupyter-widgets/controls",
            "_view_module_version": "1.5.0",
            "_view_name": "ProgressView",
            "bar_style": "success",
            "description": "",
            "description_tooltip": null,
            "layout": "IPY_MODEL_ceab060b3cf546849aa067f5fc01a8c7",
            "max": 7,
            "min": 0,
            "orientation": "horizontal",
            "style": "IPY_MODEL_44557ae7f8e34616ad3cf6b357743770",
            "value": 7
          }
        },
        "99edad81cbb64135bef4c317cbcd5aba": {
          "model_module": "@jupyter-widgets/controls",
          "model_name": "HTMLModel",
          "model_module_version": "1.5.0",
          "state": {
            "_dom_classes": [],
            "_model_module": "@jupyter-widgets/controls",
            "_model_module_version": "1.5.0",
            "_model_name": "HTMLModel",
            "_view_count": null,
            "_view_module": "@jupyter-widgets/controls",
            "_view_module_version": "1.5.0",
            "_view_name": "HTMLView",
            "description": "",
            "description_tooltip": null,
            "layout": "IPY_MODEL_9626c44b99e348949f5be60c307d4da6",
            "placeholder": "​",
            "style": "IPY_MODEL_dbef547fce5e462088390737f88bdddc",
            "value": " 7/7 [00:02&lt;00:00,  3.89it/s]"
          }
        },
        "e760bf3a5a114be6a48bc2d8d2a36e60": {
          "model_module": "@jupyter-widgets/base",
          "model_name": "LayoutModel",
          "model_module_version": "1.2.0",
          "state": {
            "_model_module": "@jupyter-widgets/base",
            "_model_module_version": "1.2.0",
            "_model_name": "LayoutModel",
            "_view_count": null,
            "_view_module": "@jupyter-widgets/base",
            "_view_module_version": "1.2.0",
            "_view_name": "LayoutView",
            "align_content": null,
            "align_items": null,
            "align_self": null,
            "border": null,
            "bottom": null,
            "display": null,
            "flex": null,
            "flex_flow": null,
            "grid_area": null,
            "grid_auto_columns": null,
            "grid_auto_flow": null,
            "grid_auto_rows": null,
            "grid_column": null,
            "grid_gap": null,
            "grid_row": null,
            "grid_template_areas": null,
            "grid_template_columns": null,
            "grid_template_rows": null,
            "height": null,
            "justify_content": null,
            "justify_items": null,
            "left": null,
            "margin": null,
            "max_height": null,
            "max_width": null,
            "min_height": null,
            "min_width": null,
            "object_fit": null,
            "object_position": null,
            "order": null,
            "overflow": null,
            "overflow_x": null,
            "overflow_y": null,
            "padding": null,
            "right": null,
            "top": null,
            "visibility": null,
            "width": null
          }
        },
        "f5c7a1bc62d4434fbbe4161764ee7846": {
          "model_module": "@jupyter-widgets/base",
          "model_name": "LayoutModel",
          "model_module_version": "1.2.0",
          "state": {
            "_model_module": "@jupyter-widgets/base",
            "_model_module_version": "1.2.0",
            "_model_name": "LayoutModel",
            "_view_count": null,
            "_view_module": "@jupyter-widgets/base",
            "_view_module_version": "1.2.0",
            "_view_name": "LayoutView",
            "align_content": null,
            "align_items": null,
            "align_self": null,
            "border": null,
            "bottom": null,
            "display": null,
            "flex": null,
            "flex_flow": null,
            "grid_area": null,
            "grid_auto_columns": null,
            "grid_auto_flow": null,
            "grid_auto_rows": null,
            "grid_column": null,
            "grid_gap": null,
            "grid_row": null,
            "grid_template_areas": null,
            "grid_template_columns": null,
            "grid_template_rows": null,
            "height": null,
            "justify_content": null,
            "justify_items": null,
            "left": null,
            "margin": null,
            "max_height": null,
            "max_width": null,
            "min_height": null,
            "min_width": null,
            "object_fit": null,
            "object_position": null,
            "order": null,
            "overflow": null,
            "overflow_x": null,
            "overflow_y": null,
            "padding": null,
            "right": null,
            "top": null,
            "visibility": null,
            "width": null
          }
        },
        "75e2ad43a9974974aab7f57d4d7bf221": {
          "model_module": "@jupyter-widgets/controls",
          "model_name": "DescriptionStyleModel",
          "model_module_version": "1.5.0",
          "state": {
            "_model_module": "@jupyter-widgets/controls",
            "_model_module_version": "1.5.0",
            "_model_name": "DescriptionStyleModel",
            "_view_count": null,
            "_view_module": "@jupyter-widgets/base",
            "_view_module_version": "1.2.0",
            "_view_name": "StyleView",
            "description_width": ""
          }
        },
        "ceab060b3cf546849aa067f5fc01a8c7": {
          "model_module": "@jupyter-widgets/base",
          "model_name": "LayoutModel",
          "model_module_version": "1.2.0",
          "state": {
            "_model_module": "@jupyter-widgets/base",
            "_model_module_version": "1.2.0",
            "_model_name": "LayoutModel",
            "_view_count": null,
            "_view_module": "@jupyter-widgets/base",
            "_view_module_version": "1.2.0",
            "_view_name": "LayoutView",
            "align_content": null,
            "align_items": null,
            "align_self": null,
            "border": null,
            "bottom": null,
            "display": null,
            "flex": null,
            "flex_flow": null,
            "grid_area": null,
            "grid_auto_columns": null,
            "grid_auto_flow": null,
            "grid_auto_rows": null,
            "grid_column": null,
            "grid_gap": null,
            "grid_row": null,
            "grid_template_areas": null,
            "grid_template_columns": null,
            "grid_template_rows": null,
            "height": null,
            "justify_content": null,
            "justify_items": null,
            "left": null,
            "margin": null,
            "max_height": null,
            "max_width": null,
            "min_height": null,
            "min_width": null,
            "object_fit": null,
            "object_position": null,
            "order": null,
            "overflow": null,
            "overflow_x": null,
            "overflow_y": null,
            "padding": null,
            "right": null,
            "top": null,
            "visibility": null,
            "width": null
          }
        },
        "44557ae7f8e34616ad3cf6b357743770": {
          "model_module": "@jupyter-widgets/controls",
          "model_name": "ProgressStyleModel",
          "model_module_version": "1.5.0",
          "state": {
            "_model_module": "@jupyter-widgets/controls",
            "_model_module_version": "1.5.0",
            "_model_name": "ProgressStyleModel",
            "_view_count": null,
            "_view_module": "@jupyter-widgets/base",
            "_view_module_version": "1.2.0",
            "_view_name": "StyleView",
            "bar_color": null,
            "description_width": ""
          }
        },
        "9626c44b99e348949f5be60c307d4da6": {
          "model_module": "@jupyter-widgets/base",
          "model_name": "LayoutModel",
          "model_module_version": "1.2.0",
          "state": {
            "_model_module": "@jupyter-widgets/base",
            "_model_module_version": "1.2.0",
            "_model_name": "LayoutModel",
            "_view_count": null,
            "_view_module": "@jupyter-widgets/base",
            "_view_module_version": "1.2.0",
            "_view_name": "LayoutView",
            "align_content": null,
            "align_items": null,
            "align_self": null,
            "border": null,
            "bottom": null,
            "display": null,
            "flex": null,
            "flex_flow": null,
            "grid_area": null,
            "grid_auto_columns": null,
            "grid_auto_flow": null,
            "grid_auto_rows": null,
            "grid_column": null,
            "grid_gap": null,
            "grid_row": null,
            "grid_template_areas": null,
            "grid_template_columns": null,
            "grid_template_rows": null,
            "height": null,
            "justify_content": null,
            "justify_items": null,
            "left": null,
            "margin": null,
            "max_height": null,
            "max_width": null,
            "min_height": null,
            "min_width": null,
            "object_fit": null,
            "object_position": null,
            "order": null,
            "overflow": null,
            "overflow_x": null,
            "overflow_y": null,
            "padding": null,
            "right": null,
            "top": null,
            "visibility": null,
            "width": null
          }
        },
        "dbef547fce5e462088390737f88bdddc": {
          "model_module": "@jupyter-widgets/controls",
          "model_name": "DescriptionStyleModel",
          "model_module_version": "1.5.0",
          "state": {
            "_model_module": "@jupyter-widgets/controls",
            "_model_module_version": "1.5.0",
            "_model_name": "DescriptionStyleModel",
            "_view_count": null,
            "_view_module": "@jupyter-widgets/base",
            "_view_module_version": "1.2.0",
            "_view_name": "StyleView",
            "description_width": ""
          }
        },
        "3b64c95211354337a913ae0cb913298e": {
          "model_module": "@jupyter-widgets/controls",
          "model_name": "HBoxModel",
          "model_module_version": "1.5.0",
          "state": {
            "_dom_classes": [],
            "_model_module": "@jupyter-widgets/controls",
            "_model_module_version": "1.5.0",
            "_model_name": "HBoxModel",
            "_view_count": null,
            "_view_module": "@jupyter-widgets/controls",
            "_view_module_version": "1.5.0",
            "_view_name": "HBoxView",
            "box_style": "",
            "children": [
              "IPY_MODEL_d64b57491d4344028eaabf4b28647588",
              "IPY_MODEL_50f15e3a081b445e9e15d88922bd4ead",
              "IPY_MODEL_28e9f3a781de4b6bb709cb29a771a1c6"
            ],
            "layout": "IPY_MODEL_2dc4199402384f50b740eb5d925f7302"
          }
        },
        "d64b57491d4344028eaabf4b28647588": {
          "model_module": "@jupyter-widgets/controls",
          "model_name": "HTMLModel",
          "model_module_version": "1.5.0",
          "state": {
            "_dom_classes": [],
            "_model_module": "@jupyter-widgets/controls",
            "_model_module_version": "1.5.0",
            "_model_name": "HTMLModel",
            "_view_count": null,
            "_view_module": "@jupyter-widgets/controls",
            "_view_module_version": "1.5.0",
            "_view_name": "HTMLView",
            "description": "",
            "description_tooltip": null,
            "layout": "IPY_MODEL_20f6e7bfcac54852bad5f4c8c90527e4",
            "placeholder": "​",
            "style": "IPY_MODEL_3e3dcba8f81947519b6ae3725137112f",
            "value": "  0%"
          }
        },
        "50f15e3a081b445e9e15d88922bd4ead": {
          "model_module": "@jupyter-widgets/controls",
          "model_name": "FloatProgressModel",
          "model_module_version": "1.5.0",
          "state": {
            "_dom_classes": [],
            "_model_module": "@jupyter-widgets/controls",
            "_model_module_version": "1.5.0",
            "_model_name": "FloatProgressModel",
            "_view_count": null,
            "_view_module": "@jupyter-widgets/controls",
            "_view_module_version": "1.5.0",
            "_view_name": "ProgressView",
            "bar_style": "",
            "description": "",
            "description_tooltip": null,
            "layout": "IPY_MODEL_faf6729dd8034a3fbef7f7834e48ec62",
            "max": 7,
            "min": 0,
            "orientation": "horizontal",
            "style": "IPY_MODEL_aaaf9a7f9839428e831aa821e3fc8ad8",
            "value": 0
          }
        },
        "28e9f3a781de4b6bb709cb29a771a1c6": {
          "model_module": "@jupyter-widgets/controls",
          "model_name": "HTMLModel",
          "model_module_version": "1.5.0",
          "state": {
            "_dom_classes": [],
            "_model_module": "@jupyter-widgets/controls",
            "_model_module_version": "1.5.0",
            "_model_name": "HTMLModel",
            "_view_count": null,
            "_view_module": "@jupyter-widgets/controls",
            "_view_module_version": "1.5.0",
            "_view_name": "HTMLView",
            "description": "",
            "description_tooltip": null,
            "layout": "IPY_MODEL_310d0f90c44f4f8fabdca2acb1c793ae",
            "placeholder": "​",
            "style": "IPY_MODEL_fbbe696f9a9f4087a13c8f6f3ebcab0e",
            "value": " 0/7 [00:00&lt;?, ?it/s]"
          }
        },
        "2dc4199402384f50b740eb5d925f7302": {
          "model_module": "@jupyter-widgets/base",
          "model_name": "LayoutModel",
          "model_module_version": "1.2.0",
          "state": {
            "_model_module": "@jupyter-widgets/base",
            "_model_module_version": "1.2.0",
            "_model_name": "LayoutModel",
            "_view_count": null,
            "_view_module": "@jupyter-widgets/base",
            "_view_module_version": "1.2.0",
            "_view_name": "LayoutView",
            "align_content": null,
            "align_items": null,
            "align_self": null,
            "border": null,
            "bottom": null,
            "display": null,
            "flex": null,
            "flex_flow": null,
            "grid_area": null,
            "grid_auto_columns": null,
            "grid_auto_flow": null,
            "grid_auto_rows": null,
            "grid_column": null,
            "grid_gap": null,
            "grid_row": null,
            "grid_template_areas": null,
            "grid_template_columns": null,
            "grid_template_rows": null,
            "height": null,
            "justify_content": null,
            "justify_items": null,
            "left": null,
            "margin": null,
            "max_height": null,
            "max_width": null,
            "min_height": null,
            "min_width": null,
            "object_fit": null,
            "object_position": null,
            "order": null,
            "overflow": null,
            "overflow_x": null,
            "overflow_y": null,
            "padding": null,
            "right": null,
            "top": null,
            "visibility": null,
            "width": null
          }
        },
        "20f6e7bfcac54852bad5f4c8c90527e4": {
          "model_module": "@jupyter-widgets/base",
          "model_name": "LayoutModel",
          "model_module_version": "1.2.0",
          "state": {
            "_model_module": "@jupyter-widgets/base",
            "_model_module_version": "1.2.0",
            "_model_name": "LayoutModel",
            "_view_count": null,
            "_view_module": "@jupyter-widgets/base",
            "_view_module_version": "1.2.0",
            "_view_name": "LayoutView",
            "align_content": null,
            "align_items": null,
            "align_self": null,
            "border": null,
            "bottom": null,
            "display": null,
            "flex": null,
            "flex_flow": null,
            "grid_area": null,
            "grid_auto_columns": null,
            "grid_auto_flow": null,
            "grid_auto_rows": null,
            "grid_column": null,
            "grid_gap": null,
            "grid_row": null,
            "grid_template_areas": null,
            "grid_template_columns": null,
            "grid_template_rows": null,
            "height": null,
            "justify_content": null,
            "justify_items": null,
            "left": null,
            "margin": null,
            "max_height": null,
            "max_width": null,
            "min_height": null,
            "min_width": null,
            "object_fit": null,
            "object_position": null,
            "order": null,
            "overflow": null,
            "overflow_x": null,
            "overflow_y": null,
            "padding": null,
            "right": null,
            "top": null,
            "visibility": null,
            "width": null
          }
        },
        "3e3dcba8f81947519b6ae3725137112f": {
          "model_module": "@jupyter-widgets/controls",
          "model_name": "DescriptionStyleModel",
          "model_module_version": "1.5.0",
          "state": {
            "_model_module": "@jupyter-widgets/controls",
            "_model_module_version": "1.5.0",
            "_model_name": "DescriptionStyleModel",
            "_view_count": null,
            "_view_module": "@jupyter-widgets/base",
            "_view_module_version": "1.2.0",
            "_view_name": "StyleView",
            "description_width": ""
          }
        },
        "faf6729dd8034a3fbef7f7834e48ec62": {
          "model_module": "@jupyter-widgets/base",
          "model_name": "LayoutModel",
          "model_module_version": "1.2.0",
          "state": {
            "_model_module": "@jupyter-widgets/base",
            "_model_module_version": "1.2.0",
            "_model_name": "LayoutModel",
            "_view_count": null,
            "_view_module": "@jupyter-widgets/base",
            "_view_module_version": "1.2.0",
            "_view_name": "LayoutView",
            "align_content": null,
            "align_items": null,
            "align_self": null,
            "border": null,
            "bottom": null,
            "display": null,
            "flex": null,
            "flex_flow": null,
            "grid_area": null,
            "grid_auto_columns": null,
            "grid_auto_flow": null,
            "grid_auto_rows": null,
            "grid_column": null,
            "grid_gap": null,
            "grid_row": null,
            "grid_template_areas": null,
            "grid_template_columns": null,
            "grid_template_rows": null,
            "height": null,
            "justify_content": null,
            "justify_items": null,
            "left": null,
            "margin": null,
            "max_height": null,
            "max_width": null,
            "min_height": null,
            "min_width": null,
            "object_fit": null,
            "object_position": null,
            "order": null,
            "overflow": null,
            "overflow_x": null,
            "overflow_y": null,
            "padding": null,
            "right": null,
            "top": null,
            "visibility": null,
            "width": null
          }
        },
        "aaaf9a7f9839428e831aa821e3fc8ad8": {
          "model_module": "@jupyter-widgets/controls",
          "model_name": "ProgressStyleModel",
          "model_module_version": "1.5.0",
          "state": {
            "_model_module": "@jupyter-widgets/controls",
            "_model_module_version": "1.5.0",
            "_model_name": "ProgressStyleModel",
            "_view_count": null,
            "_view_module": "@jupyter-widgets/base",
            "_view_module_version": "1.2.0",
            "_view_name": "StyleView",
            "bar_color": null,
            "description_width": ""
          }
        },
        "310d0f90c44f4f8fabdca2acb1c793ae": {
          "model_module": "@jupyter-widgets/base",
          "model_name": "LayoutModel",
          "model_module_version": "1.2.0",
          "state": {
            "_model_module": "@jupyter-widgets/base",
            "_model_module_version": "1.2.0",
            "_model_name": "LayoutModel",
            "_view_count": null,
            "_view_module": "@jupyter-widgets/base",
            "_view_module_version": "1.2.0",
            "_view_name": "LayoutView",
            "align_content": null,
            "align_items": null,
            "align_self": null,
            "border": null,
            "bottom": null,
            "display": null,
            "flex": null,
            "flex_flow": null,
            "grid_area": null,
            "grid_auto_columns": null,
            "grid_auto_flow": null,
            "grid_auto_rows": null,
            "grid_column": null,
            "grid_gap": null,
            "grid_row": null,
            "grid_template_areas": null,
            "grid_template_columns": null,
            "grid_template_rows": null,
            "height": null,
            "justify_content": null,
            "justify_items": null,
            "left": null,
            "margin": null,
            "max_height": null,
            "max_width": null,
            "min_height": null,
            "min_width": null,
            "object_fit": null,
            "object_position": null,
            "order": null,
            "overflow": null,
            "overflow_x": null,
            "overflow_y": null,
            "padding": null,
            "right": null,
            "top": null,
            "visibility": null,
            "width": null
          }
        },
        "fbbe696f9a9f4087a13c8f6f3ebcab0e": {
          "model_module": "@jupyter-widgets/controls",
          "model_name": "DescriptionStyleModel",
          "model_module_version": "1.5.0",
          "state": {
            "_model_module": "@jupyter-widgets/controls",
            "_model_module_version": "1.5.0",
            "_model_name": "DescriptionStyleModel",
            "_view_count": null,
            "_view_module": "@jupyter-widgets/base",
            "_view_module_version": "1.2.0",
            "_view_name": "StyleView",
            "description_width": ""
          }
        }
      }
    }
  },
  "nbformat": 4,
  "nbformat_minor": 0
}