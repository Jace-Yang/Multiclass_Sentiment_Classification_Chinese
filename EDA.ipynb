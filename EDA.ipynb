{
  "cells": [
    {
      "cell_type": "markdown",
      "metadata": {
        "id": "525XFs9ZiaQF"
      },
      "source": [
        "## Set up"
      ]
    },
    {
      "cell_type": "markdown",
      "metadata": {
        "id": "vR77jTblj3o8"
      },
      "source": [
        "### Set up for Colab"
      ]
    },
    {
      "cell_type": "code",
      "execution_count": 3,
      "metadata": {
        "colab": {
          "base_uri": "https://localhost:8080/"
        },
        "id": "zF1fYe6WLheW",
        "outputId": "90d4c71a-d4c0-41db-e353-e01061c5c7f3"
      },
      "outputs": [
        {
          "name": "stdout",
          "output_type": "stream",
          "text": [
            "Drive already mounted at /content/drive; to attempt to forcibly remount, call drive.mount(\"/content/drive\", force_remount=True).\n"
          ]
        }
      ],
      "source": [
        "# For runing notebook in colab\n",
        "from google.colab import drive\n",
        "drive.mount('/content/drive')\n",
        "import os\n",
        "root_of_repository = '/content/drive/MyDrive/ADL/Project/'\n",
        "os.chdir(root_of_repository)"
      ]
    },
    {
      "cell_type": "markdown",
      "metadata": {
        "id": "XplycqVMkDlk"
      },
      "source": [
        "### Packages"
      ]
    },
    {
      "cell_type": "code",
      "execution_count": 3,
      "metadata": {
        "id": "TkDtjNgliaQI"
      },
      "outputs": [],
      "source": [
        "import torch\n",
        "import torch.nn as nn\n",
        "from tqdm.notebook import tqdm\n",
        "import torch.nn.functional as F\n",
        "from torch.utils.data import DataLoader, TensorDataset, RandomSampler\n",
        "\n",
        "import numpy as np\n",
        "import pandas as pd\n",
        "import json\n",
        "import copy\n",
        "import time\n",
        "import gc\n",
        "from sklearn.model_selection import train_test_split\n",
        "from sklearn.metrics import f1_score, accuracy_score\n",
        "\n",
        "import matplotlib.pyplot as plt\n",
        "import seaborn as sns"
      ]
    },
    {
      "cell_type": "markdown",
      "metadata": {
        "id": "Ev8M5OS8iaQJ"
      },
      "source": [
        "## Data Preprocessing"
      ]
    },
    {
      "cell_type": "code",
      "execution_count": 5,
      "metadata": {
        "id": "7bRQKKZciaQJ"
      },
      "outputs": [],
      "source": [
        "LABEL_DICT = {'fear':0, 'neutral':1, 'sad':2, 'surprise':3, 'angry':4, 'happy':5} # Mapping label code and meaning\n",
        "DEVELOPMENT_SET_PATH = 'data/usual_train.txt'\n",
        "TEST_SET_PATH = 'data/usual_test_labeled.txt'"
      ]
    },
    {
      "cell_type": "code",
      "execution_count": 6,
      "metadata": {
        "id": "dnLa31AP3QO_"
      },
      "outputs": [],
      "source": [
        "with open(DEVELOPMENT_SET_PATH, encoding='utf8') as file:\n",
        "    dev_set = json.load(file)\n",
        "    train_set, val_set = train_test_split(dev_set, test_size=0.2, random_state=4995)\n",
        "\n",
        "with open(TEST_SET_PATH, encoding='utf8') as file:\n",
        "    test_set = json.load(file)"
      ]
    },
    {
      "cell_type": "code",
      "execution_count": 26,
      "metadata": {
        "colab": {
          "base_uri": "https://localhost:8080/",
          "height": 424
        },
        "id": "U-Finqtd3nxH",
        "outputId": "3b56cd8f-959d-48c3-870e-b4edfca37490"
      },
      "outputs": [],
      "source": [
        "data = pd.concat([\n",
        "    pd.DataFrame(train_set).assign(Type='Train Set'),\n",
        "    pd.DataFrame(val_set).assign(Type='Validation Set'),\n",
        "    pd.DataFrame(test_set).assign(Type='Test Set')],\n",
        "    axis=0).reset_index(drop=True)\n",
        "data['n_words'] = data.content.str.len()"
      ]
    },
    {
      "cell_type": "code",
      "execution_count": 44,
      "metadata": {},
      "outputs": [],
      "source": [
        "data.to_excel('result/data/clean_dataset.xlsx', index=False)"
      ]
    },
    {
      "cell_type": "code",
      "execution_count": 27,
      "metadata": {
        "colab": {
          "base_uri": "https://localhost:8080/",
          "height": 614
        },
        "id": "L0gFlq8A4ab0",
        "outputId": "80c9af83-bc2a-4d17-d604-57ba42953485"
      },
      "outputs": [
        {
          "data": {
            "text/html": [
              "<div>\n",
              "<style scoped>\n",
              "    .dataframe tbody tr th:only-of-type {\n",
              "        vertical-align: middle;\n",
              "    }\n",
              "\n",
              "    .dataframe tbody tr th {\n",
              "        vertical-align: top;\n",
              "    }\n",
              "\n",
              "    .dataframe thead th {\n",
              "        text-align: right;\n",
              "    }\n",
              "</style>\n",
              "<table border=\"1\" class=\"dataframe\">\n",
              "  <thead>\n",
              "    <tr style=\"text-align: right;\">\n",
              "      <th></th>\n",
              "      <th>Type</th>\n",
              "      <th>label</th>\n",
              "      <th>size</th>\n",
              "      <th>total_words</th>\n",
              "    </tr>\n",
              "  </thead>\n",
              "  <tbody>\n",
              "    <tr>\n",
              "      <th>12</th>\n",
              "      <td>Validation Set</td>\n",
              "      <td>angry</td>\n",
              "      <td>1650</td>\n",
              "      <td>69793</td>\n",
              "    </tr>\n",
              "    <tr>\n",
              "      <th>15</th>\n",
              "      <td>Validation Set</td>\n",
              "      <td>neutral</td>\n",
              "      <td>1119</td>\n",
              "      <td>44273</td>\n",
              "    </tr>\n",
              "    <tr>\n",
              "      <th>14</th>\n",
              "      <td>Validation Set</td>\n",
              "      <td>happy</td>\n",
              "      <td>1070</td>\n",
              "      <td>51473</td>\n",
              "    </tr>\n",
              "    <tr>\n",
              "      <th>16</th>\n",
              "      <td>Validation Set</td>\n",
              "      <td>sad</td>\n",
              "      <td>1004</td>\n",
              "      <td>42076</td>\n",
              "    </tr>\n",
              "    <tr>\n",
              "      <th>17</th>\n",
              "      <td>Validation Set</td>\n",
              "      <td>surprise</td>\n",
              "      <td>444</td>\n",
              "      <td>14788</td>\n",
              "    </tr>\n",
              "    <tr>\n",
              "      <th>13</th>\n",
              "      <td>Validation Set</td>\n",
              "      <td>fear</td>\n",
              "      <td>267</td>\n",
              "      <td>17050</td>\n",
              "    </tr>\n",
              "    <tr>\n",
              "      <th>6</th>\n",
              "      <td>Train Set</td>\n",
              "      <td>angry</td>\n",
              "      <td>6694</td>\n",
              "      <td>275855</td>\n",
              "    </tr>\n",
              "    <tr>\n",
              "      <th>9</th>\n",
              "      <td>Train Set</td>\n",
              "      <td>neutral</td>\n",
              "      <td>4630</td>\n",
              "      <td>188510</td>\n",
              "    </tr>\n",
              "    <tr>\n",
              "      <th>8</th>\n",
              "      <td>Train Set</td>\n",
              "      <td>happy</td>\n",
              "      <td>4309</td>\n",
              "      <td>195225</td>\n",
              "    </tr>\n",
              "    <tr>\n",
              "      <th>10</th>\n",
              "      <td>Train Set</td>\n",
              "      <td>sad</td>\n",
              "      <td>3986</td>\n",
              "      <td>168826</td>\n",
              "    </tr>\n",
              "    <tr>\n",
              "      <th>11</th>\n",
              "      <td>Train Set</td>\n",
              "      <td>surprise</td>\n",
              "      <td>1642</td>\n",
              "      <td>58168</td>\n",
              "    </tr>\n",
              "    <tr>\n",
              "      <th>7</th>\n",
              "      <td>Train Set</td>\n",
              "      <td>fear</td>\n",
              "      <td>953</td>\n",
              "      <td>62987</td>\n",
              "    </tr>\n",
              "    <tr>\n",
              "      <th>0</th>\n",
              "      <td>Test Set</td>\n",
              "      <td>angry</td>\n",
              "      <td>1508</td>\n",
              "      <td>61283</td>\n",
              "    </tr>\n",
              "    <tr>\n",
              "      <th>2</th>\n",
              "      <td>Test Set</td>\n",
              "      <td>happy</td>\n",
              "      <td>1018</td>\n",
              "      <td>46058</td>\n",
              "    </tr>\n",
              "    <tr>\n",
              "      <th>3</th>\n",
              "      <td>Test Set</td>\n",
              "      <td>neutral</td>\n",
              "      <td>990</td>\n",
              "      <td>39683</td>\n",
              "    </tr>\n",
              "    <tr>\n",
              "      <th>4</th>\n",
              "      <td>Test Set</td>\n",
              "      <td>sad</td>\n",
              "      <td>900</td>\n",
              "      <td>39032</td>\n",
              "    </tr>\n",
              "    <tr>\n",
              "      <th>5</th>\n",
              "      <td>Test Set</td>\n",
              "      <td>surprise</td>\n",
              "      <td>374</td>\n",
              "      <td>13956</td>\n",
              "    </tr>\n",
              "    <tr>\n",
              "      <th>1</th>\n",
              "      <td>Test Set</td>\n",
              "      <td>fear</td>\n",
              "      <td>210</td>\n",
              "      <td>13787</td>\n",
              "    </tr>\n",
              "  </tbody>\n",
              "</table>\n",
              "</div>"
            ],
            "text/plain": [
              "              Type     label  size  total_words\n",
              "12  Validation Set     angry  1650        69793\n",
              "15  Validation Set   neutral  1119        44273\n",
              "14  Validation Set     happy  1070        51473\n",
              "16  Validation Set       sad  1004        42076\n",
              "17  Validation Set  surprise   444        14788\n",
              "13  Validation Set      fear   267        17050\n",
              "6        Train Set     angry  6694       275855\n",
              "9        Train Set   neutral  4630       188510\n",
              "8        Train Set     happy  4309       195225\n",
              "10       Train Set       sad  3986       168826\n",
              "11       Train Set  surprise  1642        58168\n",
              "7        Train Set      fear   953        62987\n",
              "0         Test Set     angry  1508        61283\n",
              "2         Test Set     happy  1018        46058\n",
              "3         Test Set   neutral   990        39683\n",
              "4         Test Set       sad   900        39032\n",
              "5         Test Set  surprise   374        13956\n",
              "1         Test Set      fear   210        13787"
            ]
          },
          "execution_count": 27,
          "metadata": {},
          "output_type": "execute_result"
        }
      ],
      "source": [
        "data_agg = data.groupby(['Type', 'label'], as_index=False) \\\n",
        "    .agg(size = ('Type', 'count'),\n",
        "         total_words = ('n_words', 'sum')) \\\n",
        "    .sort_values(['Type', 'size'], ascending=False)\n",
        "data_agg"
      ]
    },
    {
      "cell_type": "code",
      "execution_count": 43,
      "metadata": {
        "colab": {
          "base_uri": "https://localhost:8080/",
          "height": 143
        },
        "id": "pNRlweUu5Xu5",
        "outputId": "daa2b03b-9268-4307-a34b-94293a526b4d"
      },
      "outputs": [
        {
          "data": {
            "text/html": [
              "<div>\n",
              "<style scoped>\n",
              "    .dataframe tbody tr th:only-of-type {\n",
              "        vertical-align: middle;\n",
              "    }\n",
              "\n",
              "    .dataframe tbody tr th {\n",
              "        vertical-align: top;\n",
              "    }\n",
              "\n",
              "    .dataframe thead th {\n",
              "        text-align: right;\n",
              "    }\n",
              "</style>\n",
              "<table border=\"1\" class=\"dataframe\">\n",
              "  <thead>\n",
              "    <tr style=\"text-align: right;\">\n",
              "      <th></th>\n",
              "      <th>Type</th>\n",
              "      <th>total_sentences</th>\n",
              "      <th>total_words</th>\n",
              "      <th>ratio</th>\n",
              "      <th>avg_word</th>\n",
              "    </tr>\n",
              "  </thead>\n",
              "  <tbody>\n",
              "    <tr>\n",
              "      <th>0</th>\n",
              "      <td>Test Set</td>\n",
              "      <td>5000</td>\n",
              "      <td>213799</td>\n",
              "      <td>0.152588</td>\n",
              "      <td>42.759800</td>\n",
              "    </tr>\n",
              "    <tr>\n",
              "      <th>1</th>\n",
              "      <td>Train Set</td>\n",
              "      <td>22214</td>\n",
              "      <td>949571</td>\n",
              "      <td>0.677917</td>\n",
              "      <td>42.746511</td>\n",
              "    </tr>\n",
              "    <tr>\n",
              "      <th>2</th>\n",
              "      <td>Validation Set</td>\n",
              "      <td>5554</td>\n",
              "      <td>239453</td>\n",
              "      <td>0.169495</td>\n",
              "      <td>43.113612</td>\n",
              "    </tr>\n",
              "  </tbody>\n",
              "</table>\n",
              "</div>"
            ],
            "text/plain": [
              "             Type  total_sentences  total_words     ratio   avg_word\n",
              "0        Test Set             5000       213799  0.152588  42.759800\n",
              "1       Train Set            22214       949571  0.677917  42.746511\n",
              "2  Validation Set             5554       239453  0.169495  43.113612"
            ]
          },
          "execution_count": 43,
          "metadata": {},
          "output_type": "execute_result"
        }
      ],
      "source": [
        "data_agg.groupby(['Type'], as_index=False) \\\n",
        "     .agg(total_sentences = ('size', 'sum'),\n",
        "          total_words = ('total_words', 'sum')) \\\n",
        "     .assign(ratio=lambda x: x['total_sentences'] / x['total_sentences'].sum()) \\\n",
        "     .assign(avg_word=lambda x: x['total_words'] / x['total_sentences']) \\\n",
        "     "
      ]
    },
    {
      "cell_type": "code",
      "execution_count": 19,
      "metadata": {
        "colab": {
          "base_uri": "https://localhost:8080/",
          "height": 925
        },
        "id": "gnZ2zYY37GZ8",
        "outputId": "8d2b5069-ce83-4008-946f-1cdbb9588015"
      },
      "outputs": [
        {
          "name": "stdout",
          "output_type": "stream",
          "text": [
            "6        angry\n",
            "9      neutral\n",
            "8        happy\n",
            "10         sad\n",
            "11    surprise\n",
            "7         fear\n",
            "Name: label, dtype: object\n"
          ]
        },
        {
          "data": {
            "image/png": "[encoded data removed]",
            "text/plain": [
              "<Figure size 576x576 with 1 Axes>"
            ]
          },
          "metadata": {},
          "output_type": "display_data"
        },
        {
          "name": "stdout",
          "output_type": "stream",
          "text": [
            "12       angry\n",
            "15     neutral\n",
            "14       happy\n",
            "16         sad\n",
            "17    surprise\n",
            "13        fear\n",
            "Name: label, dtype: object\n"
          ]
        },
        {
          "data": {
            "image/png": "[encoded data removed]",
            "text/plain": [
              "<Figure size 288x288 with 1 Axes>"
            ]
          },
          "metadata": {},
          "output_type": "display_data"
        },
        {
          "name": "stdout",
          "output_type": "stream",
          "text": [
            "0       angry\n",
            "2       happy\n",
            "3     neutral\n",
            "4         sad\n",
            "5    surprise\n",
            "1        fear\n",
            "Name: label, dtype: object\n"
          ]
        },
        {
          "data": {
            "image/png": "[encoded data removed]",
            "text/plain": [
              "<Figure size 266.4x266.4 with 1 Axes>"
            ]
          },
          "metadata": {},
          "output_type": "display_data"
        }
      ],
      "source": [
        "for data_type, figure_size in [\n",
        "    ('Train Set', 8),\n",
        "    ('Validation Set', 4),\n",
        "    ('Test Set', 3.7)\n",
        "]:\n",
        "    fig, ax = plt.subplots(figsize=(figure_size, figure_size))\n",
        "    # The slices will be ordered and plotted counter-clockwise.\n",
        "\n",
        "    plot_data = data_agg.query(f\"Type == '{data_type}'\")\n",
        "    \n",
        "    COLOR_PALLETE = {\n",
        "        'happy': '#FCE220',\n",
        "        'sad': '#00B0F0',\n",
        "        'surprise': '#FC990A',\n",
        "        'fear': '#b868f9',\n",
        "        'neutral': '#b1b0b0',\n",
        "        'angry': '#FF4C21'\n",
        "    }\n",
        "    print( plot_data['label'])\n",
        "    colors = [COLOR_PALLETE[label] for label in plot_data['label']] #define colors of three donut pieces\n",
        "    explode = (0, 0, 0, 0, 0, 0) # explode a slice if required\n",
        "    textprops = {'fontsize':2.25 * figure_size, 'color':'black'} # Font size of text in donut chart\n",
        "\n",
        "    plt.pie(plot_data['size'], explode=explode, labels=plot_data['label'], colors=colors,\n",
        "            counterclock=False,\n",
        "            autopct='%.1f%%', # Show data in 0.00%\n",
        "            pctdistance = 0.8,\n",
        "            startangle=-270,\n",
        "            shadow=False,\n",
        "            textprops =textprops,\n",
        "            wedgeprops={'linewidth': 7.0, 'edgecolor': 'white'},)\n",
        "    \n",
        "    #draw a circle at the center of pie to make it look like a donut\n",
        "    centre_circle = plt.Circle((0,0), 0.6,color='white', fc='white',linewidth=1.00)\n",
        "    fig = plt.gcf()\n",
        "    fig.gca().add_artist(centre_circle)\n",
        "    plt.axis('equal') # Set aspect ratio to be equal so that pie is      drawn as a circle.\n",
        "    plt.text(.5, .5, data_type, size=figure_size * 3.8, transform = ax.transAxes, ha='center', va='center') \n",
        "    plt.savefig(f'output/data_pie_chart_{data_type}.png', dpi=450)\n",
        "    plt.show()"
      ]
    }
  ],
  "metadata": {
    "accelerator": "GPU",
    "colab": {
      "provenance": []
    },
    "gpuClass": "standard",
    "kernelspec": {
      "display_name": "Torch",
      "language": "python",
      "name": "python3"
    },
    "language_info": {
      "codemirror_mode": {
        "name": "ipython",
        "version": 3
      },
      "file_extension": ".py",
      "mimetype": "text/x-python",
      "name": "python",
      "nbconvert_exporter": "python",
      "pygments_lexer": "ipython3",
      "version": "3.8.13"
    },
    "vscode": {
      "interpreter": {
        "hash": "2b7284d2174d8797c0202d7655add476b7d875a4eb2c8b1d60d22f1c3271c5f4"
      }
    }
  },
  "nbformat": 4,
  "nbformat_minor": 0
}
